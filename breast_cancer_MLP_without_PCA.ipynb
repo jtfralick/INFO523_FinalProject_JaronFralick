{
  "nbformat": 4,
  "nbformat_minor": 0,
  "metadata": {
    "colab": {
      "provenance": []
    },
    "kernelspec": {
      "name": "python3",
      "display_name": "Python 3"
    },
    "language_info": {
      "name": "python"
    }
  },
  "cells": [
    {
      "cell_type": "code",
      "source": [
        "import numpy as np\n",
        "\n",
        "# https://youtu.be/e2sM7ccaA9c\n",
        "\"\"\"\n",
        "Using....\n",
        "https://archive.ics.uci.edu/ml/datasets/Breast+Cancer+Wisconsin+(Diagnostic)\n",
        "\"\"\"\n",
        "\n",
        "import pandas as pd\n",
        "from matplotlib import pyplot as plt\n",
        "import seaborn as sns\n",
        "import plotly.express as px\n",
        "from keras.models import Sequential\n",
        "from keras.layers import Dense, Activation, Dropout\n",
        "from google.colab import files\n",
        "uploaded = files.upload()\n",
        "df= pd.read_csv('breast_cancer.csv')"
      ],
      "metadata": {
        "colab": {
          "resources": {
            "http://localhost:8080/nbextensions/google.colab/files.js": {
              "data": "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",
              "ok": true,
              "headers": [
                [
                  "content-type",
                  "application/javascript"
                ]
              ],
              "status": 200,
              "status_text": ""
            }
          },
          "base_uri": "https://localhost:8080/",
          "height": 73
        },
        "id": "NfCJs9kiLANr",
        "outputId": "bb2a5c7c-91af-41b4-e9bd-0983d2a56115"
      },
      "execution_count": null,
      "outputs": [
        {
          "output_type": "display_data",
          "data": {
            "text/html": [
              "\n",
              "     <input type=\"file\" id=\"files-50c5c961-caa3-4787-8143-2f3ebc8288ab\" name=\"files[]\" multiple disabled\n",
              "        style=\"border:none\" />\n",
              "     <output id=\"result-50c5c961-caa3-4787-8143-2f3ebc8288ab\">\n",
              "      Upload widget is only available when the cell has been executed in the\n",
              "      current browser session. Please rerun this cell to enable.\n",
              "      </output>\n",
              "      <script src=\"/nbextensions/google.colab/files.js\"></script> "
            ],
            "text/plain": [
              "<IPython.core.display.HTML object>"
            ]
          },
          "metadata": {}
        },
        {
          "output_type": "stream",
          "name": "stdout",
          "text": [
            "Saving breast_cancer.csv to breast_cancer.csv\n"
          ]
        }
      ]
    },
    {
      "cell_type": "code",
      "source": [
        "#print(df.describe().T)  #Values need to be normalized before fitting. \n",
        "#print(df.isnull().sum())\n",
        "df = df.dropna()\n",
        "\n",
        "#Rename Dataset to Label to make it easy to understand\n",
        "#df = df.rename(columns={'diagnosis':'label'})\n",
        "#print(df.dtypes)\n",
        "\n",
        "#Understand the data \n",
        "#sns.countplot(x=\"Label\", data=df) #M - malignant   B - benign\n",
        "\n",
        "\n",
        "####### Replace categorical values with numbers########\n",
        "df['diagnosis'].value_counts()\n",
        "\n",
        "#Define the dependent variable that needs to be predicted (labels)\n",
        "y = df[\"diagnosis\"].values\n",
        "print(y.shape)\n"
      ],
      "metadata": {
        "colab": {
          "base_uri": "https://localhost:8080/"
        },
        "id": "LT874TIuNGAe",
        "outputId": "8faa0943-71db-4493-cd68-9d8b80108d0f"
      },
      "execution_count": null,
      "outputs": [
        {
          "output_type": "stream",
          "name": "stdout",
          "text": [
            "(569,)\n"
          ]
        }
      ]
    },
    {
      "cell_type": "code",
      "source": [
        "# Encoding categorical data\n",
        "from sklearn.preprocessing import LabelEncoder\n",
        "labelencoder = LabelEncoder()\n",
        "Y = labelencoder.fit_transform(y) # M=1 and B=0\n",
        "#################################################################\n",
        "#Define x and normalize values\n",
        "\n",
        "#Define the independent variables. Let's also drop Gender, so we can normalize other data\n",
        "X = df.drop(labels = [\"diagnosis\", \"id\"], axis=1) \n",
        "\n",
        "\n",
        "from sklearn.preprocessing import StandardScaler\n",
        "scaler = StandardScaler()\n",
        "scaler.fit(X)\n",
        "X = scaler.transform(X)\n",
        "print(X.shape)\n",
        "#Split data into train and test to verify accuracy after fitting the model. \n",
        "from sklearn.model_selection import train_test_split\n",
        "X_train, X_test, y_train, y_test = train_test_split(X, Y, test_size=0.25, random_state=42)"
      ],
      "metadata": {
        "colab": {
          "base_uri": "https://localhost:8080/"
        },
        "id": "o-hjuiemPx4Z",
        "outputId": "c072871d-cb64-4ab0-8e44-19e42a8ef3f7"
      },
      "execution_count": null,
      "outputs": [
        {
          "output_type": "stream",
          "name": "stdout",
          "text": [
            "(569, 30)\n"
          ]
        }
      ]
    },
    {
      "cell_type": "code",
      "execution_count": null,
      "metadata": {
        "colab": {
          "base_uri": "https://localhost:8080/"
        },
        "id": "Qmk2PmfBE6a2",
        "outputId": "a4a58637-17a5-400c-f4f0-8c2f6fb3a72f"
      },
      "outputs": [
        {
          "output_type": "stream",
          "name": "stdout",
          "text": [
            "Model: \"sequential_2\"\n",
            "_________________________________________________________________\n",
            " Layer (type)                Output Shape              Param #   \n",
            "=================================================================\n",
            " dense_4 (Dense)             (None, 16)                496       \n",
            "                                                                 \n",
            " dropout_2 (Dropout)         (None, 16)                0         \n",
            "                                                                 \n",
            " dense_5 (Dense)             (None, 1)                 17        \n",
            "                                                                 \n",
            " activation_2 (Activation)   (None, 1)                 0         \n",
            "                                                                 \n",
            "=================================================================\n",
            "Total params: 513\n",
            "Trainable params: 513\n",
            "Non-trainable params: 0\n",
            "_________________________________________________________________\n",
            "None\n",
            "Epoch 1/100\n",
            "7/7 [==============================] - 1s 24ms/step - loss: 0.4160 - accuracy: 0.8427 - val_loss: 0.3737 - val_accuracy: 0.9161\n",
            "Epoch 2/100\n",
            "7/7 [==============================] - 0s 5ms/step - loss: 0.3769 - accuracy: 0.8662 - val_loss: 0.3326 - val_accuracy: 0.9301\n",
            "Epoch 3/100\n",
            "7/7 [==============================] - 0s 6ms/step - loss: 0.3333 - accuracy: 0.8967 - val_loss: 0.2979 - val_accuracy: 0.9301\n",
            "Epoch 4/100\n",
            "7/7 [==============================] - 0s 8ms/step - loss: 0.3177 - accuracy: 0.8897 - val_loss: 0.2698 - val_accuracy: 0.9371\n",
            "Epoch 5/100\n",
            "7/7 [==============================] - 0s 5ms/step - loss: 0.2879 - accuracy: 0.9085 - val_loss: 0.2460 - val_accuracy: 0.9371\n",
            "Epoch 6/100\n",
            "7/7 [==============================] - 0s 5ms/step - loss: 0.2681 - accuracy: 0.9131 - val_loss: 0.2263 - val_accuracy: 0.9371\n",
            "Epoch 7/100\n",
            "7/7 [==============================] - 0s 5ms/step - loss: 0.2552 - accuracy: 0.9249 - val_loss: 0.2088 - val_accuracy: 0.9371\n",
            "Epoch 8/100\n",
            "7/7 [==============================] - 0s 5ms/step - loss: 0.2317 - accuracy: 0.9343 - val_loss: 0.1941 - val_accuracy: 0.9371\n",
            "Epoch 9/100\n",
            "7/7 [==============================] - 0s 5ms/step - loss: 0.2136 - accuracy: 0.9413 - val_loss: 0.1814 - val_accuracy: 0.9441\n",
            "Epoch 10/100\n",
            "7/7 [==============================] - 0s 6ms/step - loss: 0.2208 - accuracy: 0.9554 - val_loss: 0.1703 - val_accuracy: 0.9441\n",
            "Epoch 11/100\n",
            "7/7 [==============================] - 0s 5ms/step - loss: 0.1969 - accuracy: 0.9460 - val_loss: 0.1600 - val_accuracy: 0.9441\n",
            "Epoch 12/100\n",
            "7/7 [==============================] - 0s 5ms/step - loss: 0.1871 - accuracy: 0.9507 - val_loss: 0.1507 - val_accuracy: 0.9580\n",
            "Epoch 13/100\n",
            "7/7 [==============================] - 0s 5ms/step - loss: 0.1856 - accuracy: 0.9460 - val_loss: 0.1428 - val_accuracy: 0.9650\n",
            "Epoch 14/100\n",
            "7/7 [==============================] - 0s 5ms/step - loss: 0.1828 - accuracy: 0.9484 - val_loss: 0.1358 - val_accuracy: 0.9650\n",
            "Epoch 15/100\n",
            "7/7 [==============================] - 0s 5ms/step - loss: 0.1613 - accuracy: 0.9460 - val_loss: 0.1295 - val_accuracy: 0.9650\n",
            "Epoch 16/100\n",
            "7/7 [==============================] - 0s 5ms/step - loss: 0.1655 - accuracy: 0.9554 - val_loss: 0.1233 - val_accuracy: 0.9720\n",
            "Epoch 17/100\n",
            "7/7 [==============================] - 0s 6ms/step - loss: 0.1497 - accuracy: 0.9648 - val_loss: 0.1177 - val_accuracy: 0.9720\n",
            "Epoch 18/100\n",
            "7/7 [==============================] - 0s 5ms/step - loss: 0.1541 - accuracy: 0.9554 - val_loss: 0.1128 - val_accuracy: 0.9720\n",
            "Epoch 19/100\n",
            "7/7 [==============================] - 0s 5ms/step - loss: 0.1372 - accuracy: 0.9624 - val_loss: 0.1081 - val_accuracy: 0.9720\n",
            "Epoch 20/100\n",
            "7/7 [==============================] - 0s 5ms/step - loss: 0.1360 - accuracy: 0.9695 - val_loss: 0.1040 - val_accuracy: 0.9720\n",
            "Epoch 21/100\n",
            "7/7 [==============================] - 0s 5ms/step - loss: 0.1272 - accuracy: 0.9718 - val_loss: 0.1003 - val_accuracy: 0.9720\n",
            "Epoch 22/100\n",
            "7/7 [==============================] - 0s 7ms/step - loss: 0.1313 - accuracy: 0.9624 - val_loss: 0.0967 - val_accuracy: 0.9720\n",
            "Epoch 23/100\n",
            "7/7 [==============================] - 0s 6ms/step - loss: 0.1236 - accuracy: 0.9742 - val_loss: 0.0938 - val_accuracy: 0.9790\n",
            "Epoch 24/100\n",
            "7/7 [==============================] - 0s 8ms/step - loss: 0.1226 - accuracy: 0.9624 - val_loss: 0.0911 - val_accuracy: 0.9790\n",
            "Epoch 25/100\n",
            "7/7 [==============================] - 0s 6ms/step - loss: 0.1169 - accuracy: 0.9671 - val_loss: 0.0885 - val_accuracy: 0.9790\n",
            "Epoch 26/100\n",
            "7/7 [==============================] - 0s 6ms/step - loss: 0.1240 - accuracy: 0.9765 - val_loss: 0.0860 - val_accuracy: 0.9790\n",
            "Epoch 27/100\n",
            "7/7 [==============================] - 0s 6ms/step - loss: 0.1036 - accuracy: 0.9812 - val_loss: 0.0836 - val_accuracy: 0.9790\n",
            "Epoch 28/100\n",
            "7/7 [==============================] - 0s 5ms/step - loss: 0.1116 - accuracy: 0.9718 - val_loss: 0.0816 - val_accuracy: 0.9790\n",
            "Epoch 29/100\n",
            "7/7 [==============================] - 0s 7ms/step - loss: 0.1009 - accuracy: 0.9765 - val_loss: 0.0799 - val_accuracy: 0.9790\n",
            "Epoch 30/100\n",
            "7/7 [==============================] - 0s 5ms/step - loss: 0.1030 - accuracy: 0.9718 - val_loss: 0.0782 - val_accuracy: 0.9790\n",
            "Epoch 31/100\n",
            "7/7 [==============================] - 0s 5ms/step - loss: 0.1023 - accuracy: 0.9765 - val_loss: 0.0767 - val_accuracy: 0.9790\n",
            "Epoch 32/100\n",
            "7/7 [==============================] - 0s 5ms/step - loss: 0.1069 - accuracy: 0.9671 - val_loss: 0.0752 - val_accuracy: 0.9790\n",
            "Epoch 33/100\n",
            "7/7 [==============================] - 0s 5ms/step - loss: 0.0989 - accuracy: 0.9765 - val_loss: 0.0738 - val_accuracy: 0.9790\n",
            "Epoch 34/100\n",
            "7/7 [==============================] - 0s 5ms/step - loss: 0.0932 - accuracy: 0.9765 - val_loss: 0.0724 - val_accuracy: 0.9790\n",
            "Epoch 35/100\n",
            "7/7 [==============================] - 0s 5ms/step - loss: 0.0941 - accuracy: 0.9789 - val_loss: 0.0712 - val_accuracy: 0.9790\n",
            "Epoch 36/100\n",
            "7/7 [==============================] - 0s 5ms/step - loss: 0.0916 - accuracy: 0.9789 - val_loss: 0.0702 - val_accuracy: 0.9790\n",
            "Epoch 37/100\n",
            "7/7 [==============================] - 0s 5ms/step - loss: 0.0961 - accuracy: 0.9765 - val_loss: 0.0695 - val_accuracy: 0.9790\n",
            "Epoch 38/100\n",
            "7/7 [==============================] - 0s 9ms/step - loss: 0.0924 - accuracy: 0.9789 - val_loss: 0.0688 - val_accuracy: 0.9790\n",
            "Epoch 39/100\n",
            "7/7 [==============================] - 0s 5ms/step - loss: 0.0897 - accuracy: 0.9718 - val_loss: 0.0681 - val_accuracy: 0.9860\n",
            "Epoch 40/100\n",
            "7/7 [==============================] - 0s 5ms/step - loss: 0.0820 - accuracy: 0.9789 - val_loss: 0.0672 - val_accuracy: 0.9860\n",
            "Epoch 41/100\n",
            "7/7 [==============================] - 0s 5ms/step - loss: 0.0885 - accuracy: 0.9765 - val_loss: 0.0665 - val_accuracy: 0.9860\n",
            "Epoch 42/100\n",
            "7/7 [==============================] - 0s 5ms/step - loss: 0.0812 - accuracy: 0.9859 - val_loss: 0.0658 - val_accuracy: 0.9860\n",
            "Epoch 43/100\n",
            "7/7 [==============================] - 0s 5ms/step - loss: 0.0814 - accuracy: 0.9836 - val_loss: 0.0651 - val_accuracy: 0.9860\n",
            "Epoch 44/100\n",
            "7/7 [==============================] - 0s 5ms/step - loss: 0.0763 - accuracy: 0.9836 - val_loss: 0.0642 - val_accuracy: 0.9860\n",
            "Epoch 45/100\n",
            "7/7 [==============================] - 0s 5ms/step - loss: 0.0818 - accuracy: 0.9765 - val_loss: 0.0635 - val_accuracy: 0.9860\n",
            "Epoch 46/100\n",
            "7/7 [==============================] - 0s 9ms/step - loss: 0.0793 - accuracy: 0.9789 - val_loss: 0.0626 - val_accuracy: 0.9860\n",
            "Epoch 47/100\n",
            "7/7 [==============================] - 0s 6ms/step - loss: 0.0755 - accuracy: 0.9765 - val_loss: 0.0618 - val_accuracy: 0.9860\n",
            "Epoch 48/100\n",
            "7/7 [==============================] - 0s 5ms/step - loss: 0.0652 - accuracy: 0.9836 - val_loss: 0.0613 - val_accuracy: 0.9860\n",
            "Epoch 49/100\n",
            "7/7 [==============================] - 0s 7ms/step - loss: 0.0782 - accuracy: 0.9789 - val_loss: 0.0611 - val_accuracy: 0.9860\n",
            "Epoch 50/100\n",
            "7/7 [==============================] - 0s 5ms/step - loss: 0.0756 - accuracy: 0.9765 - val_loss: 0.0606 - val_accuracy: 0.9860\n",
            "Epoch 51/100\n",
            "7/7 [==============================] - 0s 5ms/step - loss: 0.0820 - accuracy: 0.9765 - val_loss: 0.0603 - val_accuracy: 0.9860\n",
            "Epoch 52/100\n",
            "7/7 [==============================] - 0s 6ms/step - loss: 0.0811 - accuracy: 0.9671 - val_loss: 0.0599 - val_accuracy: 0.9860\n",
            "Epoch 53/100\n",
            "7/7 [==============================] - 0s 5ms/step - loss: 0.0732 - accuracy: 0.9789 - val_loss: 0.0596 - val_accuracy: 0.9860\n",
            "Epoch 54/100\n",
            "7/7 [==============================] - 0s 5ms/step - loss: 0.0675 - accuracy: 0.9812 - val_loss: 0.0593 - val_accuracy: 0.9860\n",
            "Epoch 55/100\n",
            "7/7 [==============================] - 0s 5ms/step - loss: 0.0684 - accuracy: 0.9765 - val_loss: 0.0589 - val_accuracy: 0.9860\n",
            "Epoch 56/100\n",
            "7/7 [==============================] - 0s 7ms/step - loss: 0.0702 - accuracy: 0.9836 - val_loss: 0.0586 - val_accuracy: 0.9860\n",
            "Epoch 57/100\n",
            "7/7 [==============================] - 0s 5ms/step - loss: 0.0660 - accuracy: 0.9836 - val_loss: 0.0583 - val_accuracy: 0.9860\n",
            "Epoch 58/100\n",
            "7/7 [==============================] - 0s 6ms/step - loss: 0.0610 - accuracy: 0.9859 - val_loss: 0.0579 - val_accuracy: 0.9860\n",
            "Epoch 59/100\n",
            "7/7 [==============================] - 0s 6ms/step - loss: 0.0692 - accuracy: 0.9765 - val_loss: 0.0576 - val_accuracy: 0.9860\n",
            "Epoch 60/100\n",
            "7/7 [==============================] - 0s 5ms/step - loss: 0.0688 - accuracy: 0.9812 - val_loss: 0.0571 - val_accuracy: 0.9860\n",
            "Epoch 61/100\n",
            "7/7 [==============================] - 0s 9ms/step - loss: 0.0606 - accuracy: 0.9883 - val_loss: 0.0569 - val_accuracy: 0.9860\n",
            "Epoch 62/100\n",
            "7/7 [==============================] - 0s 5ms/step - loss: 0.0617 - accuracy: 0.9836 - val_loss: 0.0569 - val_accuracy: 0.9860\n",
            "Epoch 63/100\n",
            "7/7 [==============================] - 0s 5ms/step - loss: 0.0669 - accuracy: 0.9789 - val_loss: 0.0567 - val_accuracy: 0.9860\n",
            "Epoch 64/100\n",
            "7/7 [==============================] - 0s 6ms/step - loss: 0.0674 - accuracy: 0.9789 - val_loss: 0.0566 - val_accuracy: 0.9860\n",
            "Epoch 65/100\n",
            "7/7 [==============================] - 0s 5ms/step - loss: 0.0708 - accuracy: 0.9742 - val_loss: 0.0563 - val_accuracy: 0.9860\n",
            "Epoch 66/100\n",
            "7/7 [==============================] - 0s 6ms/step - loss: 0.0722 - accuracy: 0.9765 - val_loss: 0.0560 - val_accuracy: 0.9860\n",
            "Epoch 67/100\n",
            "7/7 [==============================] - 0s 5ms/step - loss: 0.0568 - accuracy: 0.9883 - val_loss: 0.0559 - val_accuracy: 0.9860\n",
            "Epoch 68/100\n",
            "7/7 [==============================] - 0s 5ms/step - loss: 0.0577 - accuracy: 0.9883 - val_loss: 0.0558 - val_accuracy: 0.9860\n",
            "Epoch 69/100\n",
            "7/7 [==============================] - 0s 5ms/step - loss: 0.0761 - accuracy: 0.9765 - val_loss: 0.0557 - val_accuracy: 0.9860\n",
            "Epoch 70/100\n",
            "7/7 [==============================] - 0s 6ms/step - loss: 0.0618 - accuracy: 0.9812 - val_loss: 0.0554 - val_accuracy: 0.9860\n",
            "Epoch 71/100\n",
            "7/7 [==============================] - 0s 7ms/step - loss: 0.0680 - accuracy: 0.9789 - val_loss: 0.0552 - val_accuracy: 0.9860\n",
            "Epoch 72/100\n",
            "7/7 [==============================] - 0s 8ms/step - loss: 0.0620 - accuracy: 0.9836 - val_loss: 0.0551 - val_accuracy: 0.9790\n",
            "Epoch 73/100\n",
            "7/7 [==============================] - 0s 6ms/step - loss: 0.0545 - accuracy: 0.9859 - val_loss: 0.0552 - val_accuracy: 0.9790\n",
            "Epoch 74/100\n",
            "7/7 [==============================] - 0s 6ms/step - loss: 0.0594 - accuracy: 0.9812 - val_loss: 0.0548 - val_accuracy: 0.9790\n",
            "Epoch 75/100\n",
            "7/7 [==============================] - 0s 6ms/step - loss: 0.0577 - accuracy: 0.9836 - val_loss: 0.0546 - val_accuracy: 0.9790\n",
            "Epoch 76/100\n",
            "7/7 [==============================] - 0s 5ms/step - loss: 0.0504 - accuracy: 0.9883 - val_loss: 0.0545 - val_accuracy: 0.9860\n",
            "Epoch 77/100\n",
            "7/7 [==============================] - 0s 6ms/step - loss: 0.0591 - accuracy: 0.9812 - val_loss: 0.0542 - val_accuracy: 0.9860\n",
            "Epoch 78/100\n",
            "7/7 [==============================] - 0s 5ms/step - loss: 0.0565 - accuracy: 0.9836 - val_loss: 0.0541 - val_accuracy: 0.9790\n",
            "Epoch 79/100\n",
            "7/7 [==============================] - 0s 5ms/step - loss: 0.0621 - accuracy: 0.9812 - val_loss: 0.0540 - val_accuracy: 0.9790\n",
            "Epoch 80/100\n",
            "7/7 [==============================] - 0s 5ms/step - loss: 0.0522 - accuracy: 0.9859 - val_loss: 0.0539 - val_accuracy: 0.9860\n",
            "Epoch 81/100\n",
            "7/7 [==============================] - 0s 6ms/step - loss: 0.0551 - accuracy: 0.9812 - val_loss: 0.0536 - val_accuracy: 0.9860\n",
            "Epoch 82/100\n",
            "7/7 [==============================] - 0s 6ms/step - loss: 0.0569 - accuracy: 0.9789 - val_loss: 0.0535 - val_accuracy: 0.9860\n",
            "Epoch 83/100\n",
            "7/7 [==============================] - 0s 5ms/step - loss: 0.0574 - accuracy: 0.9859 - val_loss: 0.0541 - val_accuracy: 0.9790\n",
            "Epoch 84/100\n",
            "7/7 [==============================] - 0s 5ms/step - loss: 0.0540 - accuracy: 0.9930 - val_loss: 0.0543 - val_accuracy: 0.9790\n",
            "Epoch 85/100\n",
            "7/7 [==============================] - 0s 6ms/step - loss: 0.0602 - accuracy: 0.9836 - val_loss: 0.0543 - val_accuracy: 0.9790\n",
            "Epoch 86/100\n",
            "7/7 [==============================] - 0s 5ms/step - loss: 0.0587 - accuracy: 0.9883 - val_loss: 0.0542 - val_accuracy: 0.9790\n",
            "Epoch 87/100\n",
            "7/7 [==============================] - 0s 8ms/step - loss: 0.0485 - accuracy: 0.9836 - val_loss: 0.0539 - val_accuracy: 0.9860\n",
            "Epoch 88/100\n",
            "7/7 [==============================] - 0s 5ms/step - loss: 0.0484 - accuracy: 0.9883 - val_loss: 0.0536 - val_accuracy: 0.9860\n",
            "Epoch 89/100\n",
            "7/7 [==============================] - 0s 5ms/step - loss: 0.0555 - accuracy: 0.9859 - val_loss: 0.0532 - val_accuracy: 0.9860\n",
            "Epoch 90/100\n",
            "7/7 [==============================] - 0s 9ms/step - loss: 0.0521 - accuracy: 0.9859 - val_loss: 0.0530 - val_accuracy: 0.9860\n",
            "Epoch 91/100\n",
            "7/7 [==============================] - 0s 5ms/step - loss: 0.0473 - accuracy: 0.9859 - val_loss: 0.0532 - val_accuracy: 0.9860\n",
            "Epoch 92/100\n",
            "7/7 [==============================] - 0s 9ms/step - loss: 0.0518 - accuracy: 0.9883 - val_loss: 0.0531 - val_accuracy: 0.9860\n",
            "Epoch 93/100\n",
            "7/7 [==============================] - 0s 5ms/step - loss: 0.0471 - accuracy: 0.9836 - val_loss: 0.0529 - val_accuracy: 0.9860\n",
            "Epoch 94/100\n",
            "7/7 [==============================] - 0s 7ms/step - loss: 0.0491 - accuracy: 0.9883 - val_loss: 0.0527 - val_accuracy: 0.9860\n",
            "Epoch 95/100\n",
            "7/7 [==============================] - 0s 5ms/step - loss: 0.0408 - accuracy: 0.9883 - val_loss: 0.0522 - val_accuracy: 0.9860\n",
            "Epoch 96/100\n",
            "7/7 [==============================] - 0s 5ms/step - loss: 0.0487 - accuracy: 0.9883 - val_loss: 0.0520 - val_accuracy: 0.9860\n",
            "Epoch 97/100\n",
            "7/7 [==============================] - 0s 5ms/step - loss: 0.0522 - accuracy: 0.9859 - val_loss: 0.0521 - val_accuracy: 0.9860\n",
            "Epoch 98/100\n",
            "7/7 [==============================] - 0s 5ms/step - loss: 0.0500 - accuracy: 0.9883 - val_loss: 0.0522 - val_accuracy: 0.9860\n",
            "Epoch 99/100\n",
            "7/7 [==============================] - 0s 5ms/step - loss: 0.0443 - accuracy: 0.9883 - val_loss: 0.0522 - val_accuracy: 0.9860\n",
            "Epoch 100/100\n",
            "7/7 [==============================] - 0s 6ms/step - loss: 0.0485 - accuracy: 0.9906 - val_loss: 0.0521 - val_accuracy: 0.9860\n",
            "Total execution time is:  0:00:04.863602\n",
            "5/5 [==============================] - 0s 3ms/step - loss: 0.0521 - accuracy: 0.9860\n",
            "Accuracy =  98.60140085220337 %\n"
          ]
        }
      ],
      "source": [
        "#Creating a Multilayer Perceptron Model to use to traing our dataset\n",
        "\n",
        "model = Sequential()\n",
        "model.add(Dense(16, input_dim=30, activation='relu')) \n",
        "model.add(Dropout(0.2))\n",
        "model.add(Dense(1)) \n",
        "model.add(Activation('sigmoid'))  \n",
        "model.compile(loss='binary_crossentropy',\n",
        "              optimizer='adam',             #also try adam\n",
        "              metrics=['accuracy'])\n",
        "print(model.summary())\n",
        "\n",
        "###########################################################\n",
        "\n",
        "# Fit the model to our dataset\n",
        "import datetime\n",
        "start = datetime.datetime.now()\n",
        "history = model.fit(X_train, y_train ,verbose=1, epochs=100, batch_size=64,\n",
        "                     validation_data=(X_test, y_test))\n",
        "\n",
        "end = datetime.datetime.now()\n",
        "\n",
        "print(\"Total execution time is: \", end-start)\n",
        "\n",
        "_, acc = model.evaluate(X_test, y_test)\n",
        "print(\"Accuracy = \", (acc * 100.0), \"%\")\n",
        "\n"
      ]
    },
    {
      "cell_type": "code",
      "source": [
        "#plot the training and validation accuracy and loss at each epoch\n",
        "loss = history.history['loss']\n",
        "val_loss = history.history['val_loss']\n",
        "epochs = range(1, len(loss) + 1)\n",
        "plt.plot(epochs, loss, 'c', label='Training loss')\n",
        "plt.plot(epochs, val_loss, 'r', label='Validation loss')\n",
        "plt.title('Training and validation loss')\n",
        "plt.xlabel('Epochs')\n",
        "plt.ylabel('Loss')\n",
        "plt.legend()\n",
        "plt.show()\n",
        "\n",
        "\n",
        "acc = history.history['accuracy']\n",
        "val_acc = history.history['val_accuracy']\n",
        "plt.plot(epochs, acc, 'c', label='Training acc')\n",
        "plt.plot(epochs, val_acc, 'r', label='Validation acc')\n",
        "plt.title('Training and validation accuracy')\n",
        "plt.xlabel('Epochs')\n",
        "plt.ylabel('Accuracy')\n",
        "plt.legend()\n",
        "plt.show()\n",
        "\n",
        "\n",
        "# Predict the label for X_test data\n",
        "y_pred = model.predict(X_test)\n",
        "print(y_test.shape)\n",
        "y_pred = (y_pred > 0.5)\n",
        "\n",
        "# Making the Confusion Matrix\n",
        "from sklearn.metrics import confusion_matrix\n",
        "cm = confusion_matrix(y_test, y_pred)\n",
        "\n",
        "sns.heatmap(cm, annot=True)\n",
        "\n",
        "\n",
        "\n"
      ],
      "metadata": {
        "colab": {
          "base_uri": "https://localhost:8080/",
          "height": 856
        },
        "id": "o5h9WVxCT0Zm",
        "outputId": "129a7b01-b254-437f-f16c-bca19d8e129b"
      },
      "execution_count": null,
      "outputs": [
        {
          "output_type": "display_data",
          "data": {
            "image/png": "[encoded data removed]",
            "text/plain": [
              "<Figure size 432x288 with 1 Axes>"
            ]
          },
          "metadata": {
            "needs_background": "light"
          }
        },
        {
          "output_type": "display_data",
          "data": {
            "image/png": "[encoded data removed]",
            "text/plain": [
              "<Figure size 432x288 with 1 Axes>"
            ]
          },
          "metadata": {
            "needs_background": "light"
          }
        },
        {
          "output_type": "stream",
          "name": "stdout",
          "text": [
            "(143,)\n"
          ]
        },
        {
          "output_type": "execute_result",
          "data": {
            "text/plain": [
              "<matplotlib.axes._subplots.AxesSubplot at 0x7f54d44ebd50>"
            ]
          },
          "metadata": {},
          "execution_count": 5
        },
        {
          "output_type": "display_data",
          "data": {
            "image/png": "[encoded data removed]",
            "text/plain": [
              "<Figure size 432x288 with 2 Axes>"
            ]
          },
          "metadata": {
            "needs_background": "light"
          }
        }
      ]
    }
  ]
}