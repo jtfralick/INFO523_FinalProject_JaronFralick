{
  "nbformat": 4,
  "nbformat_minor": 0,
  "metadata": {
    "colab": {
      "provenance": []
    },
    "kernelspec": {
      "name": "python3",
      "display_name": "Python 3"
    },
    "language_info": {
      "name": "python"
    }
  },
  "cells": [
    {
      "cell_type": "code",
      "source": [
        "import numpy as np\n",
        "\n",
        "\n",
        "\"\"\"\n",
        "Using....\n",
        "https://archive.ics.uci.edu/ml/datasets/Breast+Cancer+Wisconsin+(Diagnostic)\n",
        "\"\"\"\n",
        "\n",
        "import pandas as pd\n",
        "from matplotlib import pyplot as plt\n",
        "import seaborn as sns\n",
        "import plotly.express as px\n",
        "from keras.models import Sequential\n",
        "from keras.layers import Dense, Activation, Dropout\n",
        "from google.colab import files\n",
        "uploaded = files.upload()\n",
        "df= pd.read_csv('breast_cancer.csv')"
      ],
      "metadata": {
        "colab": {
          "resources": {
            "http://localhost:8080/nbextensions/google.colab/files.js": {
              "data": "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",
              "ok": true,
              "headers": [
                [
                  "content-type",
                  "application/javascript"
                ]
              ],
              "status": 200,
              "status_text": ""
            }
          },
          "base_uri": "https://localhost:8080/",
          "height": 73
        },
        "id": "NfCJs9kiLANr",
        "outputId": "f9212b76-b842-4d3c-e8e0-71f047283403"
      },
      "execution_count": null,
      "outputs": [
        {
          "output_type": "display_data",
          "data": {
            "text/html": [
              "\n",
              "     <input type=\"file\" id=\"files-550109d1-4335-4806-9eb8-78a907c9dddf\" name=\"files[]\" multiple disabled\n",
              "        style=\"border:none\" />\n",
              "     <output id=\"result-550109d1-4335-4806-9eb8-78a907c9dddf\">\n",
              "      Upload widget is only available when the cell has been executed in the\n",
              "      current browser session. Please rerun this cell to enable.\n",
              "      </output>\n",
              "      <script src=\"/nbextensions/google.colab/files.js\"></script> "
            ],
            "text/plain": [
              "<IPython.core.display.HTML object>"
            ]
          },
          "metadata": {}
        },
        {
          "output_type": "stream",
          "name": "stdout",
          "text": [
            "Saving breast_cancer.csv to breast_cancer.csv\n"
          ]
        }
      ]
    },
    {
      "cell_type": "code",
      "source": [
        "#print(df.describe().T)  #Values need to be normalized before fitting. \n",
        "#print(df.isnull().sum())\n",
        "df = df.dropna()\n",
        "\n",
        "#Rename Dataset to Label to make it easy to understand\n",
        "#df = df.rename(columns={'diagnosis':'label'})\n",
        "#print(df.dtypes)\n",
        "\n",
        "#Understand the data \n",
        "#sns.countplot(x=\"Label\", data=df) #M - malignant   B - benign\n",
        "\n",
        "\n",
        "####### Replace categorical values with numbers########\n",
        "df['diagnosis'].value_counts()\n",
        "\n",
        "#Define the dependent variable that needs to be predicted (labels)\n",
        "y = df[\"diagnosis\"].values\n",
        "print(y.shape)\n"
      ],
      "metadata": {
        "colab": {
          "base_uri": "https://localhost:8080/"
        },
        "outputId": "bb3cad2e-48a9-4f6d-ce84-74fb4d459edf",
        "id": "5iLllf3BWsIf"
      },
      "execution_count": null,
      "outputs": [
        {
          "output_type": "stream",
          "name": "stdout",
          "text": [
            "(569,)\n"
          ]
        }
      ]
    },
    {
      "cell_type": "code",
      "source": [
        "class PCA:\n",
        "    def __init__(self, n_components):\n",
        "        self.n_components = n_components\n",
        "        self.components = None\n",
        "        self.mean = None\n",
        "\n",
        "    def fit(self, X):\n",
        "        # Mean centering\n",
        "        self.mean = np.mean(X, axis=0)\n",
        "        X = X - self.mean\n",
        "\n",
        "        # covariance, function needs samples as columns\n",
        "        cov = np.cov(X.T)\n",
        "\n",
        "        # eigenvalues, eigenvectors\n",
        "        eigenvalues, eigenvectors = np.linalg.eig(cov)\n",
        "\n",
        "        # -> eigenvector v = [:,i] column vector, transpose for easier calculations\n",
        "        # sort eigenvectors\n",
        "        eigenvectors = eigenvectors.T\n",
        "        idxs = np.argsort(eigenvalues)[::-1]\n",
        "        eigenvalues = eigenvalues[idxs]\n",
        "        eigenvectors = eigenvectors[idxs]\n",
        "\n",
        "        # store first n eigenvectors\n",
        "        self.components = eigenvectors[0 : self.n_components]\n",
        "\n",
        "    def transform(self, X):\n",
        "        # project data\n",
        "        X = X - self.mean\n",
        "        return np.dot(X, self.components.T)"
      ],
      "metadata": {
        "id": "ciuVMNwszNG-"
      },
      "execution_count": null,
      "outputs": []
    },
    {
      "cell_type": "code",
      "source": [
        "# Encoding categorical data\n",
        "from sklearn.preprocessing import LabelEncoder\n",
        "labelencoder = LabelEncoder()\n",
        "Y = labelencoder.fit_transform(y) # M=1 and B=0\n",
        "#################################################################\n",
        "#Define x and normalize values\n",
        "\n",
        "#Define the independent variables. Let's also drop Gender, so we can normalize other data\n",
        "X = df.drop(labels = [\"diagnosis\", \"id\"], axis=1) \n",
        "\n",
        "\n",
        "from sklearn.preprocessing import StandardScaler\n",
        "scaler = StandardScaler()\n",
        "scaler.fit(X)\n",
        "X = scaler.transform(X)\n",
        "#print(X.shape)\n",
        "\n",
        "\n",
        "\"\"\"\n",
        "Generate a Cumulative Variance plot to see the relationship\n",
        "between the number of principal components useds and the amount of cumulative\n",
        "variance observed. Think about the cumulative variance as the amount of information contained in\n",
        "a number of principal components compared to the original dataset.\n",
        "\"\"\"\n",
        "from sklearn.decomposition import PCA\n",
        "pca_test = PCA(n_components=30)\n",
        "pca_test.fit(X)\n",
        "plt.plot(np.cumsum(pca_test.explained_variance_ratio_))\n",
        "plt.xlabel(\"Number of Components\")\n",
        "plt.ylabel(\"Cumulative Variance\")\n",
        "\n",
        "# Project the data onto the 2 primary principal components\n",
        "pca = PCA(2)\n",
        "pca.fit(X)\n",
        "X_projected = pca.transform(X)\n",
        "\n",
        "print(\"Shape of X:\", X.shape)\n",
        "print(\"Shape of transformed X:\", X_projected.shape)\n",
        "\n",
        "\n",
        "X_df = pd.DataFrame(X_projected,columns=['PC1','PC2'])\n",
        "#X_y_df = df_scores = pd.concat([X_df, Species], axis=1)\n",
        "\n",
        "\n",
        "\n",
        "print(X_df.shape)\n",
        "\n",
        "\n",
        "\n",
        "#Split data into train and test to verify accuracy after fitting the model. \n",
        "from sklearn.model_selection import train_test_split\n",
        "\n",
        "\n",
        "X_train, X_test, y_train, y_test = train_test_split(X_df, Y, test_size=0.25, random_state=42)"
      ],
      "metadata": {
        "colab": {
          "base_uri": "https://localhost:8080/",
          "height": 331
        },
        "id": "o-hjuiemPx4Z",
        "outputId": "686a1d61-cc5e-4321-ebbf-875473b285ab"
      },
      "execution_count": null,
      "outputs": [
        {
          "output_type": "stream",
          "name": "stdout",
          "text": [
            "Shape of X: (569, 30)\n",
            "Shape of transformed X: (569, 2)\n",
            "(569, 2)\n"
          ]
        },
        {
          "output_type": "display_data",
          "data": {
            "image/png": "[encoded data removed]",
            "text/plain": [
              "<Figure size 432x288 with 1 Axes>"
            ]
          },
          "metadata": {
            "needs_background": "light"
          }
        }
      ]
    },
    {
      "cell_type": "code",
      "execution_count": null,
      "metadata": {
        "colab": {
          "base_uri": "https://localhost:8080/"
        },
        "id": "Qmk2PmfBE6a2",
        "outputId": "53c8b910-122f-488c-c44a-d9cd9c03cb90"
      },
      "outputs": [
        {
          "output_type": "stream",
          "name": "stdout",
          "text": [
            "Model: \"sequential_3\"\n",
            "_________________________________________________________________\n",
            " Layer (type)                Output Shape              Param #   \n",
            "=================================================================\n",
            " dense_6 (Dense)             (None, 16)                48        \n",
            "                                                                 \n",
            " dropout_3 (Dropout)         (None, 16)                0         \n",
            "                                                                 \n",
            " dense_7 (Dense)             (None, 1)                 17        \n",
            "                                                                 \n",
            " activation_3 (Activation)   (None, 1)                 0         \n",
            "                                                                 \n",
            "=================================================================\n",
            "Total params: 65\n",
            "Trainable params: 65\n",
            "Non-trainable params: 0\n",
            "_________________________________________________________________\n",
            "None\n",
            "Epoch 1/100\n",
            "7/7 [==============================] - 1s 36ms/step - loss: 0.8584 - accuracy: 0.3615 - val_loss: 0.7184 - val_accuracy: 0.3986\n",
            "Epoch 2/100\n",
            "7/7 [==============================] - 0s 7ms/step - loss: 0.7669 - accuracy: 0.4319 - val_loss: 0.6754 - val_accuracy: 0.4545\n",
            "Epoch 3/100\n",
            "7/7 [==============================] - 0s 9ms/step - loss: 0.6934 - accuracy: 0.5023 - val_loss: 0.6361 - val_accuracy: 0.5664\n",
            "Epoch 4/100\n",
            "7/7 [==============================] - 0s 7ms/step - loss: 0.7175 - accuracy: 0.5469 - val_loss: 0.6004 - val_accuracy: 0.5804\n",
            "Epoch 5/100\n",
            "7/7 [==============================] - 0s 9ms/step - loss: 0.6371 - accuracy: 0.5892 - val_loss: 0.5668 - val_accuracy: 0.6224\n",
            "Epoch 6/100\n",
            "7/7 [==============================] - 0s 10ms/step - loss: 0.6600 - accuracy: 0.6056 - val_loss: 0.5358 - val_accuracy: 0.6643\n",
            "Epoch 7/100\n",
            "7/7 [==============================] - 0s 7ms/step - loss: 0.6001 - accuracy: 0.6667 - val_loss: 0.5076 - val_accuracy: 0.7832\n",
            "Epoch 8/100\n",
            "7/7 [==============================] - 0s 7ms/step - loss: 0.5929 - accuracy: 0.6761 - val_loss: 0.4803 - val_accuracy: 0.8182\n",
            "Epoch 9/100\n",
            "7/7 [==============================] - 0s 6ms/step - loss: 0.5423 - accuracy: 0.7418 - val_loss: 0.4551 - val_accuracy: 0.8741\n",
            "Epoch 10/100\n",
            "7/7 [==============================] - 0s 7ms/step - loss: 0.5106 - accuracy: 0.7488 - val_loss: 0.4307 - val_accuracy: 0.9441\n",
            "Epoch 11/100\n",
            "7/7 [==============================] - 0s 8ms/step - loss: 0.5380 - accuracy: 0.7488 - val_loss: 0.4082 - val_accuracy: 0.9510\n",
            "Epoch 12/100\n",
            "7/7 [==============================] - 0s 8ms/step - loss: 0.4601 - accuracy: 0.8005 - val_loss: 0.3880 - val_accuracy: 0.9510\n",
            "Epoch 13/100\n",
            "7/7 [==============================] - 0s 10ms/step - loss: 0.4683 - accuracy: 0.7934 - val_loss: 0.3693 - val_accuracy: 0.9580\n",
            "Epoch 14/100\n",
            "7/7 [==============================] - 0s 7ms/step - loss: 0.4508 - accuracy: 0.8239 - val_loss: 0.3518 - val_accuracy: 0.9580\n",
            "Epoch 15/100\n",
            "7/7 [==============================] - 0s 7ms/step - loss: 0.4380 - accuracy: 0.8239 - val_loss: 0.3356 - val_accuracy: 0.9580\n",
            "Epoch 16/100\n",
            "7/7 [==============================] - 0s 8ms/step - loss: 0.4200 - accuracy: 0.8709 - val_loss: 0.3203 - val_accuracy: 0.9580\n",
            "Epoch 17/100\n",
            "7/7 [==============================] - 0s 7ms/step - loss: 0.3802 - accuracy: 0.8826 - val_loss: 0.3060 - val_accuracy: 0.9580\n",
            "Epoch 18/100\n",
            "7/7 [==============================] - 0s 8ms/step - loss: 0.3949 - accuracy: 0.8662 - val_loss: 0.2929 - val_accuracy: 0.9580\n",
            "Epoch 19/100\n",
            "7/7 [==============================] - 0s 9ms/step - loss: 0.3805 - accuracy: 0.8732 - val_loss: 0.2814 - val_accuracy: 0.9580\n",
            "Epoch 20/100\n",
            "7/7 [==============================] - 0s 10ms/step - loss: 0.3593 - accuracy: 0.8850 - val_loss: 0.2712 - val_accuracy: 0.9580\n",
            "Epoch 21/100\n",
            "7/7 [==============================] - 0s 8ms/step - loss: 0.3561 - accuracy: 0.9038 - val_loss: 0.2607 - val_accuracy: 0.9580\n",
            "Epoch 22/100\n",
            "7/7 [==============================] - 0s 6ms/step - loss: 0.3440 - accuracy: 0.8803 - val_loss: 0.2506 - val_accuracy: 0.9580\n",
            "Epoch 23/100\n",
            "7/7 [==============================] - 0s 10ms/step - loss: 0.3315 - accuracy: 0.8944 - val_loss: 0.2410 - val_accuracy: 0.9580\n",
            "Epoch 24/100\n",
            "7/7 [==============================] - 0s 11ms/step - loss: 0.3250 - accuracy: 0.8850 - val_loss: 0.2322 - val_accuracy: 0.9580\n",
            "Epoch 25/100\n",
            "7/7 [==============================] - 0s 8ms/step - loss: 0.3106 - accuracy: 0.8991 - val_loss: 0.2244 - val_accuracy: 0.9650\n",
            "Epoch 26/100\n",
            "7/7 [==============================] - 0s 7ms/step - loss: 0.2925 - accuracy: 0.9108 - val_loss: 0.2173 - val_accuracy: 0.9650\n",
            "Epoch 27/100\n",
            "7/7 [==============================] - 0s 11ms/step - loss: 0.2980 - accuracy: 0.8991 - val_loss: 0.2104 - val_accuracy: 0.9650\n",
            "Epoch 28/100\n",
            "7/7 [==============================] - 0s 7ms/step - loss: 0.3044 - accuracy: 0.9085 - val_loss: 0.2037 - val_accuracy: 0.9650\n",
            "Epoch 29/100\n",
            "7/7 [==============================] - 0s 7ms/step - loss: 0.2983 - accuracy: 0.9085 - val_loss: 0.1967 - val_accuracy: 0.9650\n",
            "Epoch 30/100\n",
            "7/7 [==============================] - 0s 10ms/step - loss: 0.2771 - accuracy: 0.9061 - val_loss: 0.1907 - val_accuracy: 0.9650\n",
            "Epoch 31/100\n",
            "7/7 [==============================] - 0s 12ms/step - loss: 0.2780 - accuracy: 0.9061 - val_loss: 0.1852 - val_accuracy: 0.9720\n",
            "Epoch 32/100\n",
            "7/7 [==============================] - 0s 9ms/step - loss: 0.2596 - accuracy: 0.9061 - val_loss: 0.1801 - val_accuracy: 0.9720\n",
            "Epoch 33/100\n",
            "7/7 [==============================] - 0s 9ms/step - loss: 0.2808 - accuracy: 0.8991 - val_loss: 0.1754 - val_accuracy: 0.9720\n",
            "Epoch 34/100\n",
            "7/7 [==============================] - 0s 7ms/step - loss: 0.2592 - accuracy: 0.9085 - val_loss: 0.1709 - val_accuracy: 0.9720\n",
            "Epoch 35/100\n",
            "7/7 [==============================] - 0s 7ms/step - loss: 0.2584 - accuracy: 0.9085 - val_loss: 0.1667 - val_accuracy: 0.9720\n",
            "Epoch 36/100\n",
            "7/7 [==============================] - 0s 7ms/step - loss: 0.2479 - accuracy: 0.9178 - val_loss: 0.1628 - val_accuracy: 0.9720\n",
            "Epoch 37/100\n",
            "7/7 [==============================] - 0s 11ms/step - loss: 0.2498 - accuracy: 0.9131 - val_loss: 0.1590 - val_accuracy: 0.9720\n",
            "Epoch 38/100\n",
            "7/7 [==============================] - 0s 11ms/step - loss: 0.2440 - accuracy: 0.9225 - val_loss: 0.1557 - val_accuracy: 0.9720\n",
            "Epoch 39/100\n",
            "7/7 [==============================] - 0s 12ms/step - loss: 0.2614 - accuracy: 0.9131 - val_loss: 0.1531 - val_accuracy: 0.9720\n",
            "Epoch 40/100\n",
            "7/7 [==============================] - 0s 7ms/step - loss: 0.2623 - accuracy: 0.9014 - val_loss: 0.1498 - val_accuracy: 0.9720\n",
            "Epoch 41/100\n",
            "7/7 [==============================] - 0s 9ms/step - loss: 0.2564 - accuracy: 0.9131 - val_loss: 0.1472 - val_accuracy: 0.9720\n",
            "Epoch 42/100\n",
            "7/7 [==============================] - 0s 7ms/step - loss: 0.2344 - accuracy: 0.9155 - val_loss: 0.1448 - val_accuracy: 0.9720\n",
            "Epoch 43/100\n",
            "7/7 [==============================] - 0s 7ms/step - loss: 0.2239 - accuracy: 0.9249 - val_loss: 0.1426 - val_accuracy: 0.9720\n",
            "Epoch 44/100\n",
            "7/7 [==============================] - 0s 7ms/step - loss: 0.2168 - accuracy: 0.9085 - val_loss: 0.1403 - val_accuracy: 0.9720\n",
            "Epoch 45/100\n",
            "7/7 [==============================] - 0s 9ms/step - loss: 0.2184 - accuracy: 0.9202 - val_loss: 0.1380 - val_accuracy: 0.9720\n",
            "Epoch 46/100\n",
            "7/7 [==============================] - 0s 8ms/step - loss: 0.2124 - accuracy: 0.9343 - val_loss: 0.1358 - val_accuracy: 0.9720\n",
            "Epoch 47/100\n",
            "7/7 [==============================] - 0s 8ms/step - loss: 0.2507 - accuracy: 0.9155 - val_loss: 0.1339 - val_accuracy: 0.9720\n",
            "Epoch 48/100\n",
            "7/7 [==============================] - 0s 7ms/step - loss: 0.2064 - accuracy: 0.9225 - val_loss: 0.1320 - val_accuracy: 0.9720\n",
            "Epoch 49/100\n",
            "7/7 [==============================] - 0s 8ms/step - loss: 0.2393 - accuracy: 0.8991 - val_loss: 0.1302 - val_accuracy: 0.9720\n",
            "Epoch 50/100\n",
            "7/7 [==============================] - 0s 6ms/step - loss: 0.2341 - accuracy: 0.9155 - val_loss: 0.1287 - val_accuracy: 0.9720\n",
            "Epoch 51/100\n",
            "7/7 [==============================] - 0s 7ms/step - loss: 0.2051 - accuracy: 0.9296 - val_loss: 0.1265 - val_accuracy: 0.9720\n",
            "Epoch 52/100\n",
            "7/7 [==============================] - 0s 9ms/step - loss: 0.1995 - accuracy: 0.9272 - val_loss: 0.1249 - val_accuracy: 0.9720\n",
            "Epoch 53/100\n",
            "7/7 [==============================] - 0s 7ms/step - loss: 0.1913 - accuracy: 0.9225 - val_loss: 0.1230 - val_accuracy: 0.9720\n",
            "Epoch 54/100\n",
            "7/7 [==============================] - 0s 6ms/step - loss: 0.1876 - accuracy: 0.9390 - val_loss: 0.1211 - val_accuracy: 0.9720\n",
            "Epoch 55/100\n",
            "7/7 [==============================] - 0s 7ms/step - loss: 0.2157 - accuracy: 0.9178 - val_loss: 0.1192 - val_accuracy: 0.9720\n",
            "Epoch 56/100\n",
            "7/7 [==============================] - 0s 6ms/step - loss: 0.2062 - accuracy: 0.9225 - val_loss: 0.1180 - val_accuracy: 0.9720\n",
            "Epoch 57/100\n",
            "7/7 [==============================] - 0s 10ms/step - loss: 0.2171 - accuracy: 0.9155 - val_loss: 0.1169 - val_accuracy: 0.9720\n",
            "Epoch 58/100\n",
            "7/7 [==============================] - 0s 6ms/step - loss: 0.2284 - accuracy: 0.9178 - val_loss: 0.1154 - val_accuracy: 0.9720\n",
            "Epoch 59/100\n",
            "7/7 [==============================] - 0s 7ms/step - loss: 0.1940 - accuracy: 0.9343 - val_loss: 0.1140 - val_accuracy: 0.9720\n",
            "Epoch 60/100\n",
            "7/7 [==============================] - 0s 6ms/step - loss: 0.1845 - accuracy: 0.9272 - val_loss: 0.1122 - val_accuracy: 0.9720\n",
            "Epoch 61/100\n",
            "7/7 [==============================] - 0s 6ms/step - loss: 0.2132 - accuracy: 0.9225 - val_loss: 0.1108 - val_accuracy: 0.9720\n",
            "Epoch 62/100\n",
            "7/7 [==============================] - 0s 10ms/step - loss: 0.1898 - accuracy: 0.9225 - val_loss: 0.1094 - val_accuracy: 0.9720\n",
            "Epoch 63/100\n",
            "7/7 [==============================] - 0s 8ms/step - loss: 0.2105 - accuracy: 0.9225 - val_loss: 0.1084 - val_accuracy: 0.9720\n",
            "Epoch 64/100\n",
            "7/7 [==============================] - 0s 7ms/step - loss: 0.1819 - accuracy: 0.9319 - val_loss: 0.1069 - val_accuracy: 0.9720\n",
            "Epoch 65/100\n",
            "7/7 [==============================] - 0s 8ms/step - loss: 0.1806 - accuracy: 0.9366 - val_loss: 0.1057 - val_accuracy: 0.9720\n",
            "Epoch 66/100\n",
            "7/7 [==============================] - 0s 8ms/step - loss: 0.1781 - accuracy: 0.9225 - val_loss: 0.1044 - val_accuracy: 0.9720\n",
            "Epoch 67/100\n",
            "7/7 [==============================] - 0s 10ms/step - loss: 0.1765 - accuracy: 0.9296 - val_loss: 0.1038 - val_accuracy: 0.9720\n",
            "Epoch 68/100\n",
            "7/7 [==============================] - 0s 7ms/step - loss: 0.1562 - accuracy: 0.9319 - val_loss: 0.1033 - val_accuracy: 0.9720\n",
            "Epoch 69/100\n",
            "7/7 [==============================] - 0s 7ms/step - loss: 0.1819 - accuracy: 0.9319 - val_loss: 0.1028 - val_accuracy: 0.9720\n",
            "Epoch 70/100\n",
            "7/7 [==============================] - 0s 9ms/step - loss: 0.1978 - accuracy: 0.9249 - val_loss: 0.1022 - val_accuracy: 0.9720\n",
            "Epoch 71/100\n",
            "7/7 [==============================] - 0s 7ms/step - loss: 0.1894 - accuracy: 0.9343 - val_loss: 0.1016 - val_accuracy: 0.9720\n",
            "Epoch 72/100\n",
            "7/7 [==============================] - 0s 10ms/step - loss: 0.1840 - accuracy: 0.9225 - val_loss: 0.1008 - val_accuracy: 0.9720\n",
            "Epoch 73/100\n",
            "7/7 [==============================] - 0s 7ms/step - loss: 0.1879 - accuracy: 0.9272 - val_loss: 0.0996 - val_accuracy: 0.9720\n",
            "Epoch 74/100\n",
            "7/7 [==============================] - 0s 6ms/step - loss: 0.1671 - accuracy: 0.9296 - val_loss: 0.0986 - val_accuracy: 0.9720\n",
            "Epoch 75/100\n",
            "7/7 [==============================] - 0s 7ms/step - loss: 0.1890 - accuracy: 0.9296 - val_loss: 0.0981 - val_accuracy: 0.9720\n",
            "Epoch 76/100\n",
            "7/7 [==============================] - 0s 7ms/step - loss: 0.1686 - accuracy: 0.9366 - val_loss: 0.0976 - val_accuracy: 0.9720\n",
            "Epoch 77/100\n",
            "7/7 [==============================] - 0s 7ms/step - loss: 0.1839 - accuracy: 0.9272 - val_loss: 0.0974 - val_accuracy: 0.9720\n",
            "Epoch 78/100\n",
            "7/7 [==============================] - 0s 6ms/step - loss: 0.1718 - accuracy: 0.9296 - val_loss: 0.0972 - val_accuracy: 0.9720\n",
            "Epoch 79/100\n",
            "7/7 [==============================] - 0s 9ms/step - loss: 0.1832 - accuracy: 0.9343 - val_loss: 0.0965 - val_accuracy: 0.9720\n",
            "Epoch 80/100\n",
            "7/7 [==============================] - 0s 7ms/step - loss: 0.1820 - accuracy: 0.9225 - val_loss: 0.0957 - val_accuracy: 0.9720\n",
            "Epoch 81/100\n",
            "7/7 [==============================] - 0s 8ms/step - loss: 0.1751 - accuracy: 0.9343 - val_loss: 0.0947 - val_accuracy: 0.9720\n",
            "Epoch 82/100\n",
            "7/7 [==============================] - 0s 7ms/step - loss: 0.1743 - accuracy: 0.9272 - val_loss: 0.0937 - val_accuracy: 0.9720\n",
            "Epoch 83/100\n",
            "7/7 [==============================] - 0s 7ms/step - loss: 0.1659 - accuracy: 0.9343 - val_loss: 0.0931 - val_accuracy: 0.9720\n",
            "Epoch 84/100\n",
            "7/7 [==============================] - 0s 7ms/step - loss: 0.1737 - accuracy: 0.9296 - val_loss: 0.0925 - val_accuracy: 0.9720\n",
            "Epoch 85/100\n",
            "7/7 [==============================] - 0s 8ms/step - loss: 0.1630 - accuracy: 0.9319 - val_loss: 0.0923 - val_accuracy: 0.9720\n",
            "Epoch 86/100\n",
            "7/7 [==============================] - 0s 7ms/step - loss: 0.1919 - accuracy: 0.9249 - val_loss: 0.0918 - val_accuracy: 0.9720\n",
            "Epoch 87/100\n",
            "7/7 [==============================] - 0s 7ms/step - loss: 0.1696 - accuracy: 0.9343 - val_loss: 0.0916 - val_accuracy: 0.9720\n",
            "Epoch 88/100\n",
            "7/7 [==============================] - 0s 6ms/step - loss: 0.1893 - accuracy: 0.9178 - val_loss: 0.0913 - val_accuracy: 0.9720\n",
            "Epoch 89/100\n",
            "7/7 [==============================] - 0s 7ms/step - loss: 0.1805 - accuracy: 0.9108 - val_loss: 0.0910 - val_accuracy: 0.9720\n",
            "Epoch 90/100\n",
            "7/7 [==============================] - 0s 9ms/step - loss: 0.1703 - accuracy: 0.9343 - val_loss: 0.0909 - val_accuracy: 0.9720\n",
            "Epoch 91/100\n",
            "7/7 [==============================] - 0s 7ms/step - loss: 0.1650 - accuracy: 0.9296 - val_loss: 0.0902 - val_accuracy: 0.9720\n",
            "Epoch 92/100\n",
            "7/7 [==============================] - 0s 8ms/step - loss: 0.1699 - accuracy: 0.9460 - val_loss: 0.0898 - val_accuracy: 0.9720\n",
            "Epoch 93/100\n",
            "7/7 [==============================] - 0s 9ms/step - loss: 0.1792 - accuracy: 0.9366 - val_loss: 0.0886 - val_accuracy: 0.9720\n",
            "Epoch 94/100\n",
            "7/7 [==============================] - 0s 6ms/step - loss: 0.1848 - accuracy: 0.9366 - val_loss: 0.0880 - val_accuracy: 0.9790\n",
            "Epoch 95/100\n",
            "7/7 [==============================] - 0s 6ms/step - loss: 0.1622 - accuracy: 0.9249 - val_loss: 0.0871 - val_accuracy: 0.9790\n",
            "Epoch 96/100\n",
            "7/7 [==============================] - 0s 7ms/step - loss: 0.1591 - accuracy: 0.9460 - val_loss: 0.0870 - val_accuracy: 0.9790\n",
            "Epoch 97/100\n",
            "7/7 [==============================] - 0s 7ms/step - loss: 0.1864 - accuracy: 0.9178 - val_loss: 0.0869 - val_accuracy: 0.9790\n",
            "Epoch 98/100\n",
            "7/7 [==============================] - 0s 7ms/step - loss: 0.1855 - accuracy: 0.9343 - val_loss: 0.0869 - val_accuracy: 0.9790\n",
            "Epoch 99/100\n",
            "7/7 [==============================] - 0s 7ms/step - loss: 0.1861 - accuracy: 0.9390 - val_loss: 0.0870 - val_accuracy: 0.9790\n",
            "Epoch 100/100\n",
            "7/7 [==============================] - 0s 7ms/step - loss: 0.1457 - accuracy: 0.9507 - val_loss: 0.0868 - val_accuracy: 0.9790\n",
            "Total execution time is:  0:00:10.827345\n",
            "5/5 [==============================] - 0s 3ms/step - loss: 0.0868 - accuracy: 0.9790\n",
            "Accuracy =  97.90209531784058 %\n"
          ]
        }
      ],
      "source": [
        "#Creating a Multilayer Perceptron Model to use to traing our dataset\n",
        "\n",
        "model = Sequential()\n",
        "model.add(Dense(16, input_dim=2, activation='relu')) \n",
        "model.add(Dropout(0.2))\n",
        "model.add(Dense(1)) \n",
        "model.add(Activation('sigmoid'))  \n",
        "model.compile(loss='binary_crossentropy',\n",
        "              optimizer='adam',             #also try adam\n",
        "              metrics=['accuracy'])\n",
        "print(model.summary())\n",
        "\n",
        "###########################################################\n",
        "\n",
        "# Fit the model to our dataset\n",
        "\n",
        "\n",
        "import datetime\n",
        "start = datetime.datetime.now()\n",
        "# # fit the model\n",
        "history = model.fit(X_train, y_train ,verbose=1, epochs=100, batch_size=64,\n",
        "                     validation_data=(X_test, y_test))\n",
        "\n",
        "end = datetime.datetime.now()\n",
        "\n",
        "print(\"Total execution time is: \", end-start)\n",
        "\n",
        "_, acc = model.evaluate(X_test, y_test)\n",
        "print(\"Accuracy = \", (acc * 100.0), \"%\")\n",
        "\n"
      ]
    },
    {
      "cell_type": "code",
      "source": [
        "#plot the training and validation accuracy and loss at each epoch\n",
        "loss = history.history['loss']\n",
        "val_loss = history.history['val_loss']\n",
        "epochs = range(1, len(loss) + 1)\n",
        "plt.plot(epochs, loss, 'c', label='Training loss')\n",
        "plt.plot(epochs, val_loss, 'r', label='Validation loss')\n",
        "plt.title('Training and validation loss')\n",
        "plt.xlabel('Epochs')\n",
        "plt.ylabel('Loss')\n",
        "plt.legend()\n",
        "plt.show()\n",
        "\n",
        "\n",
        "acc = history.history['accuracy']\n",
        "val_acc = history.history['val_accuracy']\n",
        "plt.plot(epochs, acc, 'c', label='Training acc')\n",
        "plt.plot(epochs, val_acc, 'r', label='Validation acc')\n",
        "plt.title('Training and validation accuracy')\n",
        "plt.xlabel('Epochs')\n",
        "plt.ylabel('Accuracy')\n",
        "plt.legend()\n",
        "plt.show()\n",
        "\n",
        "\n",
        "# Predict the label for X_test data\n",
        "y_pred = model.predict(X_test)\n",
        "print(y_test.shape)\n",
        "y_pred = (y_pred > 0.5)\n",
        "\n",
        "# Making the Confusion Matrix\n",
        "from sklearn.metrics import confusion_matrix\n",
        "cm = confusion_matrix(y_test, y_pred)\n",
        "\n",
        "sns.heatmap(cm, annot=True)\n",
        "\n",
        "\n",
        "\n"
      ],
      "metadata": {
        "colab": {
          "base_uri": "https://localhost:8080/",
          "height": 856
        },
        "id": "o5h9WVxCT0Zm",
        "outputId": "2f739131-d536-4777-8cf5-08c1df3a9f69"
      },
      "execution_count": null,
      "outputs": [
        {
          "output_type": "display_data",
          "data": {
            "image/png": "[encoded data removed]",
            "text/plain": [
              "<Figure size 432x288 with 1 Axes>"
            ]
          },
          "metadata": {
            "needs_background": "light"
          }
        },
        {
          "output_type": "display_data",
          "data": {
            "image/png": "[encoded data removed]",
            "text/plain": [
              "<Figure size 432x288 with 1 Axes>"
            ]
          },
          "metadata": {
            "needs_background": "light"
          }
        },
        {
          "output_type": "stream",
          "name": "stdout",
          "text": [
            "(143,)\n"
          ]
        },
        {
          "output_type": "execute_result",
          "data": {
            "text/plain": [
              "<matplotlib.axes._subplots.AxesSubplot at 0x7f3ae53815d0>"
            ]
          },
          "metadata": {},
          "execution_count": 6
        },
        {
          "output_type": "display_data",
          "data": {
            "image/png": "[encoded data removed]",
            "text/plain": [
              "<Figure size 432x288 with 2 Axes>"
            ]
          },
          "metadata": {
            "needs_background": "light"
          }
        }
      ]
    }
  ]
}